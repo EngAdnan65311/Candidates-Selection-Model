{
  "nbformat": 4,
  "nbformat_minor": 0,
  "metadata": {
    "colab": {
      "provenance": []
    },
    "kernelspec": {
      "name": "python3",
      "display_name": "Python 3"
    },
    "language_info": {
      "name": "python"
    }
  },
  "cells": [
    {
      "cell_type": "markdown",
      "source": [
        "#1. Introduction\n"
      ],
      "metadata": {
        "id": "9500Q8LqzQNp"
      }
    },
    {
      "cell_type": "markdown",
      "source": [
        "##1.1 Background\n",
        "As a Master student in last semester, I am applying for jobs and am curious to know\n",
        "\n",
        "1- How the hiring pocess works and which factors are most important for the candidates to be called for an inteview.\n",
        "\n",
        "2- Can a machine learning model be developed that can accurately predict whether a person would be called for an interview on the basis of some features?\n",
        "\n",
        "This project can help me explore the answers to  these questions.\n"
      ],
      "metadata": {
        "id": "bMnl5RXlIsxd"
      }
    },
    {
      "cell_type": "markdown",
      "source": [
        "##1.2 Objectives\n",
        "Following are the objectives of this project\n",
        "\n",
        "1- To find out what factors/features are important for a candidate/applicant to be called for an interview.\n",
        "\n",
        "2- To explore whether a machine learning model can accurately predict whether a person would be called for an interview based on the important features identified in the exploration of the first objective."
      ],
      "metadata": {
        "id": "v19Zr5QcOxAL"
      }
    },
    {
      "cell_type": "markdown",
      "source": [
        "# 2. Data Exploration\n"
      ],
      "metadata": {
        "id": "yWLaH48rGmZ4"
      }
    },
    {
      "cell_type": "markdown",
      "source": [
        "## 2.1 Data Collection\n",
        "I have taken the data from the Kaggel and the link to to the dataset is given as [HR Competency Scores for Screening](https://www.kaggle.com/datasets/muhammadjawwadismail/hr-competency-scores-for-screening). This dataset is selected because it is a good fit for achieving the objective of the project. The number of features in the data are rather diverse and the number of observations are sufficient for exploring the questions of the project which are mentioned in the background section.\n",
        "\n",
        "The first step for this project is to load the relavent libraries."
      ],
      "metadata": {
        "id": "AOr9LSg-Qwjo"
      }
    },
    {
      "cell_type": "code",
      "execution_count": null,
      "metadata": {
        "id": "4bnDJijTkF6I"
      },
      "outputs": [],
      "source": [
        "# Importing python libraries\n",
        "import pandas as pd\n",
        "import numpy as np\n",
        "import seaborn as sns\n",
        "import matplotlib.pyplot as plt"
      ]
    },
    {
      "cell_type": "markdown",
      "source": [
        "We read the dataset and then print the first five rows to observe data, the features and their type."
      ],
      "metadata": {
        "id": "5tykP_zeHrk7"
      }
    },
    {
      "cell_type": "code",
      "source": [
        "# Read and diaplay the first five rows of the dataset\n",
        "df = pd.read_csv('dataset.csv')\n",
        "df.head()"
      ],
      "metadata": {
        "colab": {
          "base_uri": "https://localhost:8080/",
          "height": 206
        },
        "id": "28q4ArHtf5C0",
        "outputId": "f4d9313a-82b1-412d-c396-be0f1682b711"
      },
      "execution_count": null,
      "outputs": [
        {
          "output_type": "execute_result",
          "data": {
            "text/plain": [
              "   years_of_experience  functional_competency_score  top1_skills_score  \\\n",
              "0             0.333333                     0.749498           0.777778   \n",
              "1             0.133333                     0.490638           0.777778   \n",
              "2             0.000000                     0.460256           0.444444   \n",
              "3             0.000000                     0.507347           0.555556   \n",
              "4             0.400000                     0.662020           0.666667   \n",
              "\n",
              "   top2_skills_score  top3_skills_score  behavior_competency_score  \\\n",
              "0                0.7                0.8                   0.769231   \n",
              "1                0.3                0.4                   0.153846   \n",
              "2                0.3                0.3                   0.051282   \n",
              "3                0.4                0.5                   0.384615   \n",
              "4                0.7                0.5                   0.461538   \n",
              "\n",
              "   top1_behavior_skill_score  top2_behavior_skill_score  \\\n",
              "0                   0.931689                   0.662042   \n",
              "1                   0.352093                   0.132231   \n",
              "2                   0.052347                   0.089765   \n",
              "3                   0.309913                   0.289758   \n",
              "4                   0.497929                   0.397544   \n",
              "\n",
              "   top3_behavior_skill_score  call_for_interview  \n",
              "0                   0.752463                   1  \n",
              "1                   0.316905                   0  \n",
              "2                   0.254859                   0  \n",
              "3                   0.440784                   0  \n",
              "4                   0.392760                   1  "
            ],
            "text/html": [
              "\n",
              "  <div id=\"df-4afbcfe8-9633-406e-a76d-e31399c0ef3a\">\n",
              "    <div class=\"colab-df-container\">\n",
              "      <div>\n",
              "<style scoped>\n",
              "    .dataframe tbody tr th:only-of-type {\n",
              "        vertical-align: middle;\n",
              "    }\n",
              "\n",
              "    .dataframe tbody tr th {\n",
              "        vertical-align: top;\n",
              "    }\n",
              "\n",
              "    .dataframe thead th {\n",
              "        text-align: right;\n",
              "    }\n",
              "</style>\n",
              "<table border=\"1\" class=\"dataframe\">\n",
              "  <thead>\n",
              "    <tr style=\"text-align: right;\">\n",
              "      <th></th>\n",
              "      <th>years_of_experience</th>\n",
              "      <th>functional_competency_score</th>\n",
              "      <th>top1_skills_score</th>\n",
              "      <th>top2_skills_score</th>\n",
              "      <th>top3_skills_score</th>\n",
              "      <th>behavior_competency_score</th>\n",
              "      <th>top1_behavior_skill_score</th>\n",
              "      <th>top2_behavior_skill_score</th>\n",
              "      <th>top3_behavior_skill_score</th>\n",
              "      <th>call_for_interview</th>\n",
              "    </tr>\n",
              "  </thead>\n",
              "  <tbody>\n",
              "    <tr>\n",
              "      <th>0</th>\n",
              "      <td>0.333333</td>\n",
              "      <td>0.749498</td>\n",
              "      <td>0.777778</td>\n",
              "      <td>0.7</td>\n",
              "      <td>0.8</td>\n",
              "      <td>0.769231</td>\n",
              "      <td>0.931689</td>\n",
              "      <td>0.662042</td>\n",
              "      <td>0.752463</td>\n",
              "      <td>1</td>\n",
              "    </tr>\n",
              "    <tr>\n",
              "      <th>1</th>\n",
              "      <td>0.133333</td>\n",
              "      <td>0.490638</td>\n",
              "      <td>0.777778</td>\n",
              "      <td>0.3</td>\n",
              "      <td>0.4</td>\n",
              "      <td>0.153846</td>\n",
              "      <td>0.352093</td>\n",
              "      <td>0.132231</td>\n",
              "      <td>0.316905</td>\n",
              "      <td>0</td>\n",
              "    </tr>\n",
              "    <tr>\n",
              "      <th>2</th>\n",
              "      <td>0.000000</td>\n",
              "      <td>0.460256</td>\n",
              "      <td>0.444444</td>\n",
              "      <td>0.3</td>\n",
              "      <td>0.3</td>\n",
              "      <td>0.051282</td>\n",
              "      <td>0.052347</td>\n",
              "      <td>0.089765</td>\n",
              "      <td>0.254859</td>\n",
              "      <td>0</td>\n",
              "    </tr>\n",
              "    <tr>\n",
              "      <th>3</th>\n",
              "      <td>0.000000</td>\n",
              "      <td>0.507347</td>\n",
              "      <td>0.555556</td>\n",
              "      <td>0.4</td>\n",
              "      <td>0.5</td>\n",
              "      <td>0.384615</td>\n",
              "      <td>0.309913</td>\n",
              "      <td>0.289758</td>\n",
              "      <td>0.440784</td>\n",
              "      <td>0</td>\n",
              "    </tr>\n",
              "    <tr>\n",
              "      <th>4</th>\n",
              "      <td>0.400000</td>\n",
              "      <td>0.662020</td>\n",
              "      <td>0.666667</td>\n",
              "      <td>0.7</td>\n",
              "      <td>0.5</td>\n",
              "      <td>0.461538</td>\n",
              "      <td>0.497929</td>\n",
              "      <td>0.397544</td>\n",
              "      <td>0.392760</td>\n",
              "      <td>1</td>\n",
              "    </tr>\n",
              "  </tbody>\n",
              "</table>\n",
              "</div>\n",
              "      <button class=\"colab-df-convert\" onclick=\"convertToInteractive('df-4afbcfe8-9633-406e-a76d-e31399c0ef3a')\"\n",
              "              title=\"Convert this dataframe to an interactive table.\"\n",
              "              style=\"display:none;\">\n",
              "        \n",
              "  <svg xmlns=\"http://www.w3.org/2000/svg\" height=\"24px\"viewBox=\"0 0 24 24\"\n",
              "       width=\"24px\">\n",
              "    <path d=\"M0 0h24v24H0V0z\" fill=\"none\"/>\n",
              "    <path d=\"M18.56 5.44l.94 2.06.94-2.06 2.06-.94-2.06-.94-.94-2.06-.94 2.06-2.06.94zm-11 1L8.5 8.5l.94-2.06 2.06-.94-2.06-.94L8.5 2.5l-.94 2.06-2.06.94zm10 10l.94 2.06.94-2.06 2.06-.94-2.06-.94-.94-2.06-.94 2.06-2.06.94z\"/><path d=\"M17.41 7.96l-1.37-1.37c-.4-.4-.92-.59-1.43-.59-.52 0-1.04.2-1.43.59L10.3 9.45l-7.72 7.72c-.78.78-.78 2.05 0 2.83L4 21.41c.39.39.9.59 1.41.59.51 0 1.02-.2 1.41-.59l7.78-7.78 2.81-2.81c.8-.78.8-2.07 0-2.86zM5.41 20L4 18.59l7.72-7.72 1.47 1.35L5.41 20z\"/>\n",
              "  </svg>\n",
              "      </button>\n",
              "      \n",
              "  <style>\n",
              "    .colab-df-container {\n",
              "      display:flex;\n",
              "      flex-wrap:wrap;\n",
              "      gap: 12px;\n",
              "    }\n",
              "\n",
              "    .colab-df-convert {\n",
              "      background-color: #E8F0FE;\n",
              "      border: none;\n",
              "      border-radius: 50%;\n",
              "      cursor: pointer;\n",
              "      display: none;\n",
              "      fill: #1967D2;\n",
              "      height: 32px;\n",
              "      padding: 0 0 0 0;\n",
              "      width: 32px;\n",
              "    }\n",
              "\n",
              "    .colab-df-convert:hover {\n",
              "      background-color: #E2EBFA;\n",
              "      box-shadow: 0px 1px 2px rgba(60, 64, 67, 0.3), 0px 1px 3px 1px rgba(60, 64, 67, 0.15);\n",
              "      fill: #174EA6;\n",
              "    }\n",
              "\n",
              "    [theme=dark] .colab-df-convert {\n",
              "      background-color: #3B4455;\n",
              "      fill: #D2E3FC;\n",
              "    }\n",
              "\n",
              "    [theme=dark] .colab-df-convert:hover {\n",
              "      background-color: #434B5C;\n",
              "      box-shadow: 0px 1px 3px 1px rgba(0, 0, 0, 0.15);\n",
              "      filter: drop-shadow(0px 1px 2px rgba(0, 0, 0, 0.3));\n",
              "      fill: #FFFFFF;\n",
              "    }\n",
              "  </style>\n",
              "\n",
              "      <script>\n",
              "        const buttonEl =\n",
              "          document.querySelector('#df-4afbcfe8-9633-406e-a76d-e31399c0ef3a button.colab-df-convert');\n",
              "        buttonEl.style.display =\n",
              "          google.colab.kernel.accessAllowed ? 'block' : 'none';\n",
              "\n",
              "        async function convertToInteractive(key) {\n",
              "          const element = document.querySelector('#df-4afbcfe8-9633-406e-a76d-e31399c0ef3a');\n",
              "          const dataTable =\n",
              "            await google.colab.kernel.invokeFunction('convertToInteractive',\n",
              "                                                     [key], {});\n",
              "          if (!dataTable) return;\n",
              "\n",
              "          const docLinkHtml = 'Like what you see? Visit the ' +\n",
              "            '<a target=\"_blank\" href=https://colab.research.google.com/notebooks/data_table.ipynb>data table notebook</a>'\n",
              "            + ' to learn more about interactive tables.';\n",
              "          element.innerHTML = '';\n",
              "          dataTable['output_type'] = 'display_data';\n",
              "          await google.colab.output.renderOutput(dataTable, element);\n",
              "          const docLink = document.createElement('div');\n",
              "          docLink.innerHTML = docLinkHtml;\n",
              "          element.appendChild(docLink);\n",
              "        }\n",
              "      </script>\n",
              "    </div>\n",
              "  </div>\n",
              "  "
            ]
          },
          "metadata": {},
          "execution_count": 165
        }
      ]
    },
    {
      "cell_type": "markdown",
      "source": [
        "All the values are given in the normalized form."
      ],
      "metadata": {
        "id": "N6JGZejNu6TA"
      }
    },
    {
      "cell_type": "code",
      "source": [
        "# Print the names of all the features in the dataset\n",
        "features_names = []\n",
        "for col in df.columns:\n",
        "  print(col)"
      ],
      "metadata": {
        "colab": {
          "base_uri": "https://localhost:8080/"
        },
        "id": "H2qMQrAcVmUF",
        "outputId": "9881a6aa-b939-4ca3-c6ac-79091b95119d"
      },
      "execution_count": null,
      "outputs": [
        {
          "output_type": "stream",
          "name": "stdout",
          "text": [
            "years_of_experience\n",
            "functional_competency_score\n",
            "top1_skills_score\n",
            "top2_skills_score\n",
            "top3_skills_score\n",
            "behavior_competency_score\n",
            "top1_behavior_skill_score\n",
            "top2_behavior_skill_score\n",
            "top3_behavior_skill_score\n",
            "call_for_interview\n"
          ]
        }
      ]
    },
    {
      "cell_type": "code",
      "source": [
        "# Check the dimensions of the dataset\n",
        "df.shape"
      ],
      "metadata": {
        "colab": {
          "base_uri": "https://localhost:8080/"
        },
        "id": "n00_ZRnXYpkK",
        "outputId": "5a94b664-5576-4440-8d25-fc05086f32b0"
      },
      "execution_count": null,
      "outputs": [
        {
          "output_type": "execute_result",
          "data": {
            "text/plain": [
              "(300, 10)"
            ]
          },
          "metadata": {},
          "execution_count": 167
        }
      ]
    },
    {
      "cell_type": "markdown",
      "source": [
        "So, we have total 300 observations and 10 features. Overall, the data is numerical but the call for interview, the target variable, is categorical. The decision to call the candidate for interview is shown by 1, and not to be called by 0."
      ],
      "metadata": {
        "id": "xbkozlcFYulG"
      }
    },
    {
      "cell_type": "markdown",
      "source": [
        "## 2.2 Data Visualisation\n",
        "We will plot a box plot for the features in the dataset to see and analyze how they are distributed. "
      ],
      "metadata": {
        "id": "MA-r3yEMsJXU"
      }
    },
    {
      "cell_type": "code",
      "source": [
        "\n",
        "color_codes = ['lightblue', 'lightgreen', 'lightyellow', '#9b5de5', '#f15bb5', '#fee440', '#00bbf9',\n",
        "              'lightblue', 'lightgreen']\n",
        "\n",
        "# Draw the graphs for all the features except response variable\n",
        "features_to_plot = df.drop('call_for_interview', axis = 1)\n",
        "\n",
        "# Create the axes and figure of the graph\n",
        "fig, ax = plt.subplots(figsize=(9, 6))\n",
        "boxplot = ax.boxplot(features_to_plot, patch_artist=True)\n",
        "\n",
        "# Change the fill color of the boxes\n",
        "for patch, color in zip(boxplot['boxes'], color_codes[0:9]):\n",
        "    patch.set_facecolor(color)\n",
        "\n",
        "# Add labels to the graph and show the plot\n",
        "ax.set_ylabel('Score')\n",
        "ax.set_title('Features Box Plot')\n",
        "ax.set_xticklabels(features_to_plot)\n",
        "plt.xticks(rotation=90)\n",
        "plt.show()\n"
      ],
      "metadata": {
        "colab": {
          "base_uri": "https://localhost:8080/",
          "height": 737
        },
        "id": "kVA3Sib9iAEe",
        "outputId": "73eca068-50e4-49ce-ef3e-35c9f7b9a676"
      },
      "execution_count": null,
      "outputs": [
        {
          "output_type": "display_data",
          "data": {
            "text/plain": [
              "<Figure size 900x600 with 1 Axes>"
            ],
            "image/png": "[encoded data removed]"
          },
          "metadata": {}
        }
      ]
    },
    {
      "cell_type": "markdown",
      "source": [
        "The top1_skills_score has the largest median among all the features, while the years_of_experience have the lowest median. The top2_skills_score and top3_skills_score have almost same median score. The behavior competency score and top three behavior skills have almost same median. Moreover, only the functional competency score has outliers."
      ],
      "metadata": {
        "id": "HTUnf4il1DSs"
      }
    },
    {
      "cell_type": "markdown",
      "source": [
        "Now to see the percentages of the students who are called for interiew and who are not, we will plot the bar plot."
      ],
      "metadata": {
        "id": "ZviQ8zoycbLC"
      }
    },
    {
      "cell_type": "code",
      "source": [
        "\n",
        "# Call_for_interview should be yes or no\n",
        "labels = ['Yes', 'No']\n",
        "values = df['call_for_interview'].value_counts()\n",
        "\n",
        "# Find the percetages for the yes and no\n",
        "total = sum(values)\n",
        "percentages = [(value/total) * 100 for value in values]\n",
        "\n",
        "# Add percentage labels to the bars\n",
        "for i, value in enumerate(values):\n",
        "    percentage = f'{percentages[i]:.2f}%'\n",
        "    plt.text(i, value, percentage, ha='center', va='bottom')\n",
        "\n",
        "# Plotting the bar chart and the labels\n",
        "plt.bar(labels, values, color = color_codes[0:2], align='center', width=0.4, edgecolor='black', linewidth=1)\n",
        "plt.xlabel('Call for Interview')\n",
        "plt.ylabel('Count')\n",
        "plt.title('Frequency of Yes and No')\n",
        "plt.show()\n"
      ],
      "metadata": {
        "colab": {
          "base_uri": "https://localhost:8080/",
          "height": 472
        },
        "id": "kXARoS6hbmH9",
        "outputId": "6be7bf3a-5f29-42e7-b069-d95c50f48316"
      },
      "execution_count": null,
      "outputs": [
        {
          "output_type": "display_data",
          "data": {
            "text/plain": [
              "<Figure size 640x480 with 1 Axes>"
            ],
            "image/png": "[encoded data removed]"
          },
          "metadata": {}
        }
      ]
    },
    {
      "cell_type": "markdown",
      "source": [
        "#3. Data Preparation\n",
        "After data exploration and visualization, the next step is to prepare the data for analysis and for training the model. For this we need to do preprocessing of the data which address issues such as missing values, outliers, encoding of variables and feature selection/engineering."
      ],
      "metadata": {
        "id": "7y1YKbYaUnD9"
      }
    },
    {
      "cell_type": "markdown",
      "source": [
        "##3.1 Data Transfromation\n",
        "Since computer deal only with numbers, therefore data transfromation is needed when the dataset contains non-numeric data, such as categorical variables or text. In our dataset all the features have numerical values, even the catagorical variable call_for_interview (Yes, No) is given as numeric variable (1, 0) respectively. Therefore, transformation is not required."
      ],
      "metadata": {
        "id": "BJkBtF0PMLFT"
      }
    },
    {
      "cell_type": "markdown",
      "source": [
        "##3.2 Data Cleaning:\n",
        "To clean our data, we will:\n",
        "* Remove duplicates rows if there is any.\n",
        "* Check and handle missing values in the dataset.\n",
        "* Examine the data types of each column and ensure they are correctly assigned."
      ],
      "metadata": {
        "id": "dzCQ0sQtW8Df"
      }
    },
    {
      "cell_type": "code",
      "source": [
        "# Check if there are any missing values\n",
        "# Sum them up for each column\n",
        "\n",
        "df.isna().sum()"
      ],
      "metadata": {
        "colab": {
          "base_uri": "https://localhost:8080/"
        },
        "id": "voJNJBX3XHUa",
        "outputId": "b8141356-7e94-44bf-9ea4-327e9fe7b3f7"
      },
      "execution_count": null,
      "outputs": [
        {
          "output_type": "execute_result",
          "data": {
            "text/plain": [
              "years_of_experience            0\n",
              "functional_competency_score    0\n",
              "top1_skills_score              0\n",
              "top2_skills_score              0\n",
              "top3_skills_score              0\n",
              "behavior_competency_score      0\n",
              "top1_behavior_skill_score      0\n",
              "top2_behavior_skill_score      0\n",
              "top3_behavior_skill_score      0\n",
              "call_for_interview             0\n",
              "dtype: int64"
            ]
          },
          "metadata": {},
          "execution_count": 170
        }
      ]
    },
    {
      "cell_type": "markdown",
      "source": [
        "The result of the code chunk above shows there are no missing values in the columns."
      ],
      "metadata": {
        "id": "dW7RgAqWYpoa"
      }
    },
    {
      "cell_type": "markdown",
      "source": [
        "Now, we need to check if there are duplicate observations in the dataframe and sum them up to get the total number of duplicated rows."
      ],
      "metadata": {
        "id": "cO3VarGgYzvT"
      }
    },
    {
      "cell_type": "code",
      "source": [
        "# This will check the duplicate observations in the dataset\n",
        "\n",
        "df.duplicated().sum()"
      ],
      "metadata": {
        "colab": {
          "base_uri": "https://localhost:8080/"
        },
        "id": "S-MnE_bsY-cF",
        "outputId": "753837f6-2689-49f3-a1e6-2a0c4346f380"
      },
      "execution_count": null,
      "outputs": [
        {
          "output_type": "execute_result",
          "data": {
            "text/plain": [
              "0"
            ]
          },
          "metadata": {},
          "execution_count": 171
        }
      ]
    },
    {
      "cell_type": "markdown",
      "source": [
        "Hence, the total observations are uniqe and there no duplication of observations."
      ],
      "metadata": {
        "id": "Wr7jG2CdZu_G"
      }
    },
    {
      "cell_type": "markdown",
      "source": [
        "Next we need to check the data types of our features."
      ],
      "metadata": {
        "id": "-vSINc31Z9jp"
      }
    },
    {
      "cell_type": "code",
      "source": [
        "# Check the data types of each columns in df.\n",
        "df.dtypes"
      ],
      "metadata": {
        "colab": {
          "base_uri": "https://localhost:8080/"
        },
        "id": "BRiAb2wWaF4f",
        "outputId": "2f85a837-12c9-4953-cd8b-136ef701c9fb"
      },
      "execution_count": null,
      "outputs": [
        {
          "output_type": "execute_result",
          "data": {
            "text/plain": [
              "years_of_experience            float64\n",
              "functional_competency_score    float64\n",
              "top1_skills_score              float64\n",
              "top2_skills_score              float64\n",
              "top3_skills_score              float64\n",
              "behavior_competency_score      float64\n",
              "top1_behavior_skill_score      float64\n",
              "top2_behavior_skill_score      float64\n",
              "top3_behavior_skill_score      float64\n",
              "call_for_interview               int64\n",
              "dtype: object"
            ]
          },
          "metadata": {},
          "execution_count": 172
        }
      ]
    },
    {
      "cell_type": "markdown",
      "source": [
        "It is clear that all the data types are correctly assigned and there is no need for any correction."
      ],
      "metadata": {
        "id": "YbOxe98baMke"
      }
    },
    {
      "cell_type": "markdown",
      "source": [
        "As discussed earlier, there are outliers in the functional competancy score that needs to be removed."
      ],
      "metadata": {
        "id": "eCGETJcdirp4"
      }
    },
    {
      "cell_type": "code",
      "source": [
        "data_to_plot = df['functional_competency_score']\n",
        "# Identify outliers by inter quartile range\n",
        "q1 = np.percentile(data_to_plot , 25)\n",
        "q3 = np.percentile(data_to_plot , 75)\n",
        "iqr = q3 - q1\n",
        "threshold = 1.5 * iqr\n",
        "outliers = (data_to_plot  < q1 - threshold) | (data_to_plot  > q3 + threshold)\n",
        "\n",
        "\n",
        "# Visualize original and filtered data side by side\n",
        "fig, (ax1, ax2) = plt.subplots(1, 2)\n",
        "fig.set_size_inches(8, 5) \n",
        "fig.suptitle('Box plot of Functional competency with and without outliers')\n",
        "\n",
        "# Plot original data\n",
        "ax1.boxplot(data_to_plot, patch_artist=True, boxprops = {'facecolor' : color_codes[1]})\n",
        "ax1.set_xlabel(\"Box Plot of Original Data\")\n",
        "\n",
        "# Remove outliers from the functional comptency columns\n",
        "filtered_data = data_to_plot [~outliers]\n",
        "\n",
        "\n",
        "# Plot the filtered data\n",
        "ax2.boxplot(filtered_data, patch_artist=True, boxprops = {'facecolor' : color_codes[1]})\n",
        "ax2.set_xlabel(\"Box Plot of Filtered Data\")\n",
        "plt.show()\n",
        "\n",
        "\n",
        "# Remove outliers from the dataset\n",
        "df = df[~outliers]\n"
      ],
      "metadata": {
        "colab": {
          "base_uri": "https://localhost:8080/",
          "height": 515
        },
        "id": "8mWvcEbM2Be7",
        "outputId": "41c142fd-efbe-4a6b-c968-a7dd085000d5"
      },
      "execution_count": null,
      "outputs": [
        {
          "output_type": "display_data",
          "data": {
            "text/plain": [
              "<Figure size 800x500 with 2 Axes>"
            ],
            "image/png": "[encoded data removed]"
          },
          "metadata": {}
        }
      ]
    },
    {
      "cell_type": "markdown",
      "source": [
        "Follwoing are the observations of the correlation matrix:\n",
        "\n",
        "1. Years of experience and behavior competency score are highly  correlated with response variable.\n",
        "2. Years of experience is also highly correlated behavior competency scores.\n"
      ],
      "metadata": {
        "id": "OkVNEtFKPn29"
      }
    },
    {
      "cell_type": "markdown",
      "source": [
        "Next, we will drop the features which are highly correlated with each other. For this I have set the threshold value for correlation coefficient greater than 0.85."
      ],
      "metadata": {
        "id": "oEXEXj_Tdcww"
      }
    },
    {
      "cell_type": "code",
      "source": [
        "# Identify highly correlated features\n",
        "correlation_matrix = df.drop(\"call_for_interview\", axis = 1)\n",
        "correlation_matrix = correlation_matrix.corr()\n",
        "# Set threshold\n",
        "corr_threshold = 0.85 \n",
        "high_corr_features = set()\n",
        "for i in range(len(correlation_matrix.columns)):\n",
        "    for j in range(i):\n",
        "        if abs(correlation_matrix.iloc[i, j]) > corr_threshold:\n",
        "            colname_i = correlation_matrix.columns[i]\n",
        "            high_corr_features.add(colname_i)\n",
        "  "
      ],
      "metadata": {
        "id": "dbvNyNgNdr9z"
      },
      "execution_count": null,
      "outputs": []
    },
    {
      "cell_type": "code",
      "source": [
        "high_corr_features"
      ],
      "metadata": {
        "colab": {
          "base_uri": "https://localhost:8080/"
        },
        "id": "j6CpGwy_dv1t",
        "outputId": "601eb9b5-956f-4598-ec9e-75fa9ce98e75"
      },
      "execution_count": null,
      "outputs": [
        {
          "output_type": "execute_result",
          "data": {
            "text/plain": [
              "{'behavior_competency_score',\n",
              " 'top1_behavior_skill_score',\n",
              " 'top2_behavior_skill_score',\n",
              " 'top3_behavior_skill_score'}"
            ]
          },
          "metadata": {},
          "execution_count": 156
        }
      ]
    },
    {
      "cell_type": "markdown",
      "source": [
        "The above features are highly correlated with each other and have correlation coefficient more that 0.85. Therefore, we will drop three and choose one of them. Sicne the behavior competency has the highest correlation with call of interview, therefore we will keep it."
      ],
      "metadata": {
        "id": "9gZxmZJ-dzoN"
      }
    },
    {
      "cell_type": "code",
      "source": [
        "# Drop the mentioned columns fromthe dataset\n",
        "df= df.drop(['top1_behavior_skill_score','top2_behavior_skill_score','top3_behavior_skill_score'],  axis = 1)"
      ],
      "metadata": {
        "id": "VIgJ-bwIeARe"
      },
      "execution_count": null,
      "outputs": []
    },
    {
      "cell_type": "code",
      "source": [
        "# Confirm the data\n",
        "df.head()"
      ],
      "metadata": {
        "colab": {
          "base_uri": "https://localhost:8080/",
          "height": 206
        },
        "id": "P3cN7AVBg7sr",
        "outputId": "b031051a-31f0-4600-a216-a4e7678f66d8"
      },
      "execution_count": null,
      "outputs": [
        {
          "output_type": "execute_result",
          "data": {
            "text/plain": [
              "   years_of_experience  functional_competency_score  top1_skills_score  \\\n",
              "0             0.333333                     0.749498           0.777778   \n",
              "1             0.133333                     0.490638           0.777778   \n",
              "2             0.000000                     0.460256           0.444444   \n",
              "3             0.000000                     0.507347           0.555556   \n",
              "4             0.400000                     0.662020           0.666667   \n",
              "\n",
              "   top2_skills_score  top3_skills_score  behavior_competency_score  \\\n",
              "0                0.7                0.8                   0.769231   \n",
              "1                0.3                0.4                   0.153846   \n",
              "2                0.3                0.3                   0.051282   \n",
              "3                0.4                0.5                   0.384615   \n",
              "4                0.7                0.5                   0.461538   \n",
              "\n",
              "   call_for_interview  \n",
              "0                   1  \n",
              "1                   0  \n",
              "2                   0  \n",
              "3                   0  \n",
              "4                   1  "
            ],
            "text/html": [
              "\n",
              "  <div id=\"df-1b2c45e7-3045-4255-8a12-7b953e538cf6\">\n",
              "    <div class=\"colab-df-container\">\n",
              "      <div>\n",
              "<style scoped>\n",
              "    .dataframe tbody tr th:only-of-type {\n",
              "        vertical-align: middle;\n",
              "    }\n",
              "\n",
              "    .dataframe tbody tr th {\n",
              "        vertical-align: top;\n",
              "    }\n",
              "\n",
              "    .dataframe thead th {\n",
              "        text-align: right;\n",
              "    }\n",
              "</style>\n",
              "<table border=\"1\" class=\"dataframe\">\n",
              "  <thead>\n",
              "    <tr style=\"text-align: right;\">\n",
              "      <th></th>\n",
              "      <th>years_of_experience</th>\n",
              "      <th>functional_competency_score</th>\n",
              "      <th>top1_skills_score</th>\n",
              "      <th>top2_skills_score</th>\n",
              "      <th>top3_skills_score</th>\n",
              "      <th>behavior_competency_score</th>\n",
              "      <th>call_for_interview</th>\n",
              "    </tr>\n",
              "  </thead>\n",
              "  <tbody>\n",
              "    <tr>\n",
              "      <th>0</th>\n",
              "      <td>0.333333</td>\n",
              "      <td>0.749498</td>\n",
              "      <td>0.777778</td>\n",
              "      <td>0.7</td>\n",
              "      <td>0.8</td>\n",
              "      <td>0.769231</td>\n",
              "      <td>1</td>\n",
              "    </tr>\n",
              "    <tr>\n",
              "      <th>1</th>\n",
              "      <td>0.133333</td>\n",
              "      <td>0.490638</td>\n",
              "      <td>0.777778</td>\n",
              "      <td>0.3</td>\n",
              "      <td>0.4</td>\n",
              "      <td>0.153846</td>\n",
              "      <td>0</td>\n",
              "    </tr>\n",
              "    <tr>\n",
              "      <th>2</th>\n",
              "      <td>0.000000</td>\n",
              "      <td>0.460256</td>\n",
              "      <td>0.444444</td>\n",
              "      <td>0.3</td>\n",
              "      <td>0.3</td>\n",
              "      <td>0.051282</td>\n",
              "      <td>0</td>\n",
              "    </tr>\n",
              "    <tr>\n",
              "      <th>3</th>\n",
              "      <td>0.000000</td>\n",
              "      <td>0.507347</td>\n",
              "      <td>0.555556</td>\n",
              "      <td>0.4</td>\n",
              "      <td>0.5</td>\n",
              "      <td>0.384615</td>\n",
              "      <td>0</td>\n",
              "    </tr>\n",
              "    <tr>\n",
              "      <th>4</th>\n",
              "      <td>0.400000</td>\n",
              "      <td>0.662020</td>\n",
              "      <td>0.666667</td>\n",
              "      <td>0.7</td>\n",
              "      <td>0.5</td>\n",
              "      <td>0.461538</td>\n",
              "      <td>1</td>\n",
              "    </tr>\n",
              "  </tbody>\n",
              "</table>\n",
              "</div>\n",
              "      <button class=\"colab-df-convert\" onclick=\"convertToInteractive('df-1b2c45e7-3045-4255-8a12-7b953e538cf6')\"\n",
              "              title=\"Convert this dataframe to an interactive table.\"\n",
              "              style=\"display:none;\">\n",
              "        \n",
              "  <svg xmlns=\"http://www.w3.org/2000/svg\" height=\"24px\"viewBox=\"0 0 24 24\"\n",
              "       width=\"24px\">\n",
              "    <path d=\"M0 0h24v24H0V0z\" fill=\"none\"/>\n",
              "    <path d=\"M18.56 5.44l.94 2.06.94-2.06 2.06-.94-2.06-.94-.94-2.06-.94 2.06-2.06.94zm-11 1L8.5 8.5l.94-2.06 2.06-.94-2.06-.94L8.5 2.5l-.94 2.06-2.06.94zm10 10l.94 2.06.94-2.06 2.06-.94-2.06-.94-.94-2.06-.94 2.06-2.06.94z\"/><path d=\"M17.41 7.96l-1.37-1.37c-.4-.4-.92-.59-1.43-.59-.52 0-1.04.2-1.43.59L10.3 9.45l-7.72 7.72c-.78.78-.78 2.05 0 2.83L4 21.41c.39.39.9.59 1.41.59.51 0 1.02-.2 1.41-.59l7.78-7.78 2.81-2.81c.8-.78.8-2.07 0-2.86zM5.41 20L4 18.59l7.72-7.72 1.47 1.35L5.41 20z\"/>\n",
              "  </svg>\n",
              "      </button>\n",
              "      \n",
              "  <style>\n",
              "    .colab-df-container {\n",
              "      display:flex;\n",
              "      flex-wrap:wrap;\n",
              "      gap: 12px;\n",
              "    }\n",
              "\n",
              "    .colab-df-convert {\n",
              "      background-color: #E8F0FE;\n",
              "      border: none;\n",
              "      border-radius: 50%;\n",
              "      cursor: pointer;\n",
              "      display: none;\n",
              "      fill: #1967D2;\n",
              "      height: 32px;\n",
              "      padding: 0 0 0 0;\n",
              "      width: 32px;\n",
              "    }\n",
              "\n",
              "    .colab-df-convert:hover {\n",
              "      background-color: #E2EBFA;\n",
              "      box-shadow: 0px 1px 2px rgba(60, 64, 67, 0.3), 0px 1px 3px 1px rgba(60, 64, 67, 0.15);\n",
              "      fill: #174EA6;\n",
              "    }\n",
              "\n",
              "    [theme=dark] .colab-df-convert {\n",
              "      background-color: #3B4455;\n",
              "      fill: #D2E3FC;\n",
              "    }\n",
              "\n",
              "    [theme=dark] .colab-df-convert:hover {\n",
              "      background-color: #434B5C;\n",
              "      box-shadow: 0px 1px 3px 1px rgba(0, 0, 0, 0.15);\n",
              "      filter: drop-shadow(0px 1px 2px rgba(0, 0, 0, 0.3));\n",
              "      fill: #FFFFFF;\n",
              "    }\n",
              "  </style>\n",
              "\n",
              "      <script>\n",
              "        const buttonEl =\n",
              "          document.querySelector('#df-1b2c45e7-3045-4255-8a12-7b953e538cf6 button.colab-df-convert');\n",
              "        buttonEl.style.display =\n",
              "          google.colab.kernel.accessAllowed ? 'block' : 'none';\n",
              "\n",
              "        async function convertToInteractive(key) {\n",
              "          const element = document.querySelector('#df-1b2c45e7-3045-4255-8a12-7b953e538cf6');\n",
              "          const dataTable =\n",
              "            await google.colab.kernel.invokeFunction('convertToInteractive',\n",
              "                                                     [key], {});\n",
              "          if (!dataTable) return;\n",
              "\n",
              "          const docLinkHtml = 'Like what you see? Visit the ' +\n",
              "            '<a target=\"_blank\" href=https://colab.research.google.com/notebooks/data_table.ipynb>data table notebook</a>'\n",
              "            + ' to learn more about interactive tables.';\n",
              "          element.innerHTML = '';\n",
              "          dataTable['output_type'] = 'display_data';\n",
              "          await google.colab.output.renderOutput(dataTable, element);\n",
              "          const docLink = document.createElement('div');\n",
              "          docLink.innerHTML = docLinkHtml;\n",
              "          element.appendChild(docLink);\n",
              "        }\n",
              "      </script>\n",
              "    </div>\n",
              "  </div>\n",
              "  "
            ]
          },
          "metadata": {},
          "execution_count": 136
        }
      ]
    },
    {
      "cell_type": "markdown",
      "source": [
        "#4. Model training\n",
        "I have used nine classification models for training and I will choose one of them based on the evaluation metrics."
      ],
      "metadata": {
        "id": "9xAGDdLWY0JO"
      }
    },
    {
      "cell_type": "code",
      "source": [
        "\n",
        "# Importing sklearn libraries for model training and evaluation metrics\n",
        "from sklearn.preprocessing import StandardScaler\n",
        "from sklearn.model_selection import train_test_split\n",
        "from sklearn.metrics import log_loss, accuracy_score, precision_score, recall_score, f1_score\n",
        "\n",
        "\n",
        "# Different classification Models\n",
        "from sklearn.discriminant_analysis import LinearDiscriminantAnalysis, QuadraticDiscriminantAnalysis\n",
        "from sklearn.model_selection import cross_val_score, cross_val_predict, train_test_split\n",
        "from sklearn.neighbors import KNeighborsClassifier\n",
        "from sklearn.svm import SVC, NuSVC\n",
        "from sklearn.tree import DecisionTreeClassifier\n",
        "from sklearn.linear_model import LogisticRegression\n",
        "from sklearn.ensemble import RandomForestClassifier\n",
        "from sklearn.naive_bayes import GaussianNB\n"
      ],
      "metadata": {
        "id": "UzkVghePS0Xd"
      },
      "execution_count": null,
      "outputs": []
    },
    {
      "cell_type": "markdown",
      "source": [
        "As our response variable is a decision variable, hence assign features columns to X and decision variable to y. Also, split the dataset into training data (80%) and testing data (20%)."
      ],
      "metadata": {
        "id": "tljZ1MLl-RhI"
      }
    },
    {
      "cell_type": "code",
      "source": [
        "# Split the data into train and test model\n",
        "X = df.drop(\"call_for_interview\", axis = 1)\n",
        "y = df[\"call_for_interview\"]\n",
        "X_train, X_test, y_train, y_test = train_test_split(X, y, test_size=0.2, random_state=42, stratify=y)"
      ],
      "metadata": {
        "id": "b4qJqlnfUMRB"
      },
      "execution_count": null,
      "outputs": []
    },
    {
      "cell_type": "markdown",
      "source": [
        "Next, we train the model with different classifiers on the training dataset. Moreover, we test the trained classifiers on the test dataset."
      ],
      "metadata": {
        "id": "0yTMFKwut_Le"
      }
    },
    {
      "cell_type": "markdown",
      "source": [
        "To choose the best model among the trained models, we will use the f1 score, accuracy, and log loss."
      ],
      "metadata": {
        "id": "_VVyD1uW51MD"
      }
    },
    {
      "cell_type": "code",
      "source": [
        "# Define the list of models\n",
        "models = [\n",
        "    KNeighborsClassifier(n_neighbors=5),\n",
        "    SVC(kernel=\"rbf\", C=0.025, probability=True),\n",
        "    NuSVC(probability=True),\n",
        "    DecisionTreeClassifier(),\n",
        "    RandomForestClassifier(),\n",
        "    GaussianNB(),\n",
        "    LinearDiscriminantAnalysis(),\n",
        "    QuadraticDiscriminantAnalysis(),\n",
        "    LogisticRegression()\n",
        "]\n",
        "\n",
        "\n",
        "# Logging for Visual Comparison\n",
        "log_cols = [\"Classifier\", \"Accuracy\", \"Log Loss\", \"F1 Score\"]\n",
        "log = pd.DataFrame(columns=log_cols)\n",
        "\n",
        "for model in models:\n",
        "    name = model.__class__.__name__\n",
        "    print(\"*\" * 40)\n",
        "    print(name)\n",
        "\n",
        "    # Perform cross-validation\n",
        "    train_predictions = cross_val_predict(model, X_train, y_train, cv=5)\n",
        "\n",
        "    # Calculate and print the evaluation metrics\n",
        "    precision = precision_score(y_train, train_predictions, average=\"macro\")\n",
        "    recall = recall_score(y_train, train_predictions, average=\"macro\")\n",
        "    f1 = f1_score(y_train, train_predictions, average=\"macro\")\n",
        "    ppv = precision_score(y_train, train_predictions, average=None)\n",
        "    npv = recall_score(y_train, train_predictions, average=None)\n",
        "\n",
        "   \n",
        "    print(\"==== Training Set Results ====\")\n",
        "    print(\"Precision: {:.2%}\".format(precision))\n",
        "    print(\"Recall: {:.2%}\".format(recall))\n",
        "    print(\"F1 Score: {:.2%}\".format(f1))\n",
        "    print(\"PPV (Precision):\", ppv)\n",
        "    print(\"NPV (Recall):\", npv)\n",
        "\n",
        "    # Fit the model on the training set and calculate metrics on the test set\n",
        "    model.fit(X_train, y_train)\n",
        "\n",
        "    test_predictions = model.predict(X_test)\n",
        "\n",
        "    accuracy = accuracy_score(y_test, test_predictions)\n",
        "    f1_test = f1_score(y_test, test_predictions, average=\"macro\")\n",
        "\n",
        "    test_predictions_proba = model.predict_proba(X_test)\n",
        "    my_metric = log_loss(y_test, test_predictions_proba)\n",
        "\n",
        "    log_entry = pd.DataFrame([[name, accuracy * 100, my_metric, f1_test]], columns=log_cols)\n",
        "    log = pd.concat([log, log_entry], ignore_index=True)\n",
        "\n",
        "# Print the results\n",
        "print(\"*\" * 40)\n",
        "print(\"Testing Results for each Classifier:\")\n",
        "print(log)\n"
      ],
      "metadata": {
        "colab": {
          "base_uri": "https://localhost:8080/"
        },
        "id": "nKeBd-9MiVg9",
        "outputId": "3362555c-ed0b-49fd-edee-2b31ea725080"
      },
      "execution_count": null,
      "outputs": [
        {
          "output_type": "stream",
          "name": "stdout",
          "text": [
            "****************************************\n",
            "KNeighborsClassifier\n",
            "==== Training Set Results ====\n",
            "Precision: 91.15%\n",
            "Recall: 90.81%\n",
            "F1 Score: 90.55%\n",
            "PPV (Precision): [0.8515625  0.97142857]\n",
            "NPV (Recall): [0.97321429 0.84297521]\n",
            "****************************************\n",
            "SVC\n",
            "==== Training Set Results ====\n",
            "Precision: 91.23%\n",
            "Recall: 90.46%\n",
            "F1 Score: 90.10%\n",
            "PPV (Precision): [0.83458647 0.99      ]\n",
            "NPV (Recall): [0.99107143 0.81818182]\n",
            "****************************************\n",
            "NuSVC\n",
            "==== Training Set Results ====\n",
            "Precision: 91.23%\n",
            "Recall: 90.46%\n",
            "F1 Score: 90.10%\n",
            "PPV (Precision): [0.83458647 0.99      ]\n",
            "NPV (Recall): [0.99107143 0.81818182]\n",
            "****************************************\n",
            "DecisionTreeClassifier\n",
            "==== Training Set Results ====\n",
            "Precision: 85.81%\n",
            "Recall: 85.83%\n",
            "F1 Score: 85.82%\n",
            "PPV (Precision): [0.84955752 0.86666667]\n",
            "NPV (Recall): [0.85714286 0.85950413]\n",
            "****************************************\n",
            "RandomForestClassifier\n",
            "==== Training Set Results ====\n",
            "Precision: 90.99%\n",
            "Recall: 90.78%\n",
            "F1 Score: 90.55%\n",
            "PPV (Precision): [0.85714286 0.96261682]\n",
            "NPV (Recall): [0.96428571 0.85123967]\n",
            "****************************************\n",
            "GaussianNB\n",
            "==== Training Set Results ====\n",
            "Precision: 92.21%\n",
            "Recall: 91.70%\n",
            "F1 Score: 91.40%\n",
            "PPV (Precision): [0.85384615 0.99029126]\n",
            "NPV (Recall): [0.99107143 0.84297521]\n",
            "****************************************\n",
            "LinearDiscriminantAnalysis\n",
            "==== Training Set Results ====\n",
            "Precision: 90.91%\n",
            "Recall: 90.05%\n",
            "F1 Score: 89.67%\n",
            "PPV (Precision): [0.82835821 0.98989899]\n",
            "NPV (Recall): [0.99107143 0.80991736]\n",
            "****************************************\n",
            "QuadraticDiscriminantAnalysis\n",
            "==== Training Set Results ====\n",
            "Precision: 91.50%\n",
            "Recall: 91.22%\n",
            "F1 Score: 90.98%\n",
            "PPV (Precision): [0.85826772 0.97169811]\n",
            "NPV (Recall): [0.97321429 0.85123967]\n",
            "****************************************\n",
            "LogisticRegression\n",
            "==== Training Set Results ====\n",
            "Precision: 91.88%\n",
            "Recall: 91.29%\n",
            "F1 Score: 90.97%\n",
            "PPV (Precision): [0.84732824 0.99019608]\n",
            "NPV (Recall): [0.99107143 0.83471074]\n",
            "****************************************\n",
            "Testing Results for each Classifier:\n",
            "                      Classifier   Accuracy  Log Loss  F1 Score\n",
            "0           KNeighborsClassifier  88.135593  2.563986  0.880808\n",
            "1                            SVC  86.440678  0.241599  0.863426\n",
            "2                          NuSVC  86.440678  0.211782  0.863426\n",
            "3         DecisionTreeClassifier  88.135593  4.276366  0.881356\n",
            "4         RandomForestClassifier  88.135593  0.192258  0.881219\n",
            "5                     GaussianNB  88.135593  0.454203  0.880808\n",
            "6     LinearDiscriminantAnalysis  86.440678  0.291524  0.863426\n",
            "7  QuadraticDiscriminantAnalysis  91.525424  0.184815  0.915157\n",
            "8             LogisticRegression  88.135593  0.280978  0.880808\n"
          ]
        }
      ]
    },
    {
      "cell_type": "markdown",
      "source": [
        "We can see the from the table above that logistic regresion and quadratic discriminant analysis have are the two top models on the bases of slected matrics. \n",
        " "
      ],
      "metadata": {
        "id": "rVm86QzfxaoB"
      }
    },
    {
      "cell_type": "markdown",
      "source": [
        "To better summarize the results of the classiffier on the test data, we plot the results table above."
      ],
      "metadata": {
        "id": "p69KDzBz6zOw"
      }
    },
    {
      "cell_type": "code",
      "source": [
        "\n",
        "# Plot the Accuracy, Log Loss, and F1 Score\n",
        "fig, ax = plt.subplots(nrows=1, ncols=3, sharey=True, figsize=(20, 8))\n",
        "\n",
        "plt.subplot(1, 3, 1)\n",
        "c = sns.barplot(x='Accuracy', y='Classifier', data=log, color=color_codes[3], edgecolor = 'black', linewidth = 0.7)\n",
        "c.set(ylabel=None)\n",
        "c.bar_label(c.containers[0], padding=-30, fmt='%.2f')\n",
        "plt.xlabel('Accuracy %')\n",
        "plt.title('Classifier Accuracy')\n",
        "\n",
        "plt.subplot(1, 3, 2)\n",
        "sns.set_color_codes(\"muted\")\n",
        "l = sns.barplot(x='Log Loss', y='Classifier', data=log, color=color_codes[1], edgecolor = 'black', linewidth = 0.7)\n",
        "l.set(ylabel=None)\n",
        "l.bar_label(l.containers[0], padding=-25, fmt='%.2f')\n",
        "plt.xlabel('Log Loss')\n",
        "plt.title('Classifier Log Loss')\n",
        "\n",
        "plt.subplot(1, 3, 3)\n",
        "f = sns.barplot(x='F1 Score', y='Classifier', data=log, color=color_codes[0], edgecolor = 'black', linewidth = 0.7)\n",
        "f.set(ylabel=None)\n",
        "f.bar_label(f.containers[0], padding=-25, fmt='%.2f')\n",
        "plt.xlabel('F1 Score')\n",
        "plt.title('Classifier F1 Score')\n",
        "\n",
        "fig.supylabel('Classifier')\n",
        "plt.tight_layout()\n",
        "plt.show()\n"
      ],
      "metadata": {
        "colab": {
          "base_uri": "https://localhost:8080/",
          "height": 807
        },
        "id": "Muw6KpZNswr0",
        "outputId": "27fb6525-aa2d-4404-d8b4-941161b4586d"
      },
      "execution_count": null,
      "outputs": [
        {
          "output_type": "display_data",
          "data": {
            "text/plain": [
              "<Figure size 2000x800 with 3 Axes>"
            ],
            "image/png": "[encoded data removed]"
          },
          "metadata": {}
        }
      ]
    },
    {
      "cell_type": "markdown",
      "source": [
        "Qudaratic Discriminant Analysis has the highest accuracy, less log loss and highest f1 score. The second best model is logistic regression based on accuracy, log loss, and f1 score. My model of choice is logistic regression because I want to know which features are important for our prediction model."
      ],
      "metadata": {
        "id": "JofEtJEt7fdF"
      }
    },
    {
      "cell_type": "markdown",
      "source": [
        "For checking which features are most important for the predictin in the model, I trained the logistic regression model agian.\n",
        "\n",
        "\n"
      ],
      "metadata": {
        "id": "a6hIus4X8jR-"
      }
    },
    {
      "cell_type": "code",
      "source": [
        "# Create and fit a logistic regression model\n",
        "\n",
        "logreg = LogisticRegression()\n",
        "logreg.fit(X_train, y_train)\n"
      ],
      "metadata": {
        "id": "TmQt8pc7q8wd",
        "colab": {
          "base_uri": "https://localhost:8080/",
          "height": 74
        },
        "outputId": "aa9e48d0-87ba-4479-8e82-1156d1f933ca"
      },
      "execution_count": null,
      "outputs": [
        {
          "output_type": "execute_result",
          "data": {
            "text/plain": [
              "LogisticRegression()"
            ],
            "text/html": [
              "<style>#sk-container-id-3 {color: black;background-color: white;}#sk-container-id-3 pre{padding: 0;}#sk-container-id-3 div.sk-toggleable {background-color: white;}#sk-container-id-3 label.sk-toggleable__label {cursor: pointer;display: block;width: 100%;margin-bottom: 0;padding: 0.3em;box-sizing: border-box;text-align: center;}#sk-container-id-3 label.sk-toggleable__label-arrow:before {content: \"▸\";float: left;margin-right: 0.25em;color: #696969;}#sk-container-id-3 label.sk-toggleable__label-arrow:hover:before {color: black;}#sk-container-id-3 div.sk-estimator:hover label.sk-toggleable__label-arrow:before {color: black;}#sk-container-id-3 div.sk-toggleable__content {max-height: 0;max-width: 0;overflow: hidden;text-align: left;background-color: #f0f8ff;}#sk-container-id-3 div.sk-toggleable__content pre {margin: 0.2em;color: black;border-radius: 0.25em;background-color: #f0f8ff;}#sk-container-id-3 input.sk-toggleable__control:checked~div.sk-toggleable__content {max-height: 200px;max-width: 100%;overflow: auto;}#sk-container-id-3 input.sk-toggleable__control:checked~label.sk-toggleable__label-arrow:before {content: \"▾\";}#sk-container-id-3 div.sk-estimator input.sk-toggleable__control:checked~label.sk-toggleable__label {background-color: #d4ebff;}#sk-container-id-3 div.sk-label input.sk-toggleable__control:checked~label.sk-toggleable__label {background-color: #d4ebff;}#sk-container-id-3 input.sk-hidden--visually {border: 0;clip: rect(1px 1px 1px 1px);clip: rect(1px, 1px, 1px, 1px);height: 1px;margin: -1px;overflow: hidden;padding: 0;position: absolute;width: 1px;}#sk-container-id-3 div.sk-estimator {font-family: monospace;background-color: #f0f8ff;border: 1px dotted black;border-radius: 0.25em;box-sizing: border-box;margin-bottom: 0.5em;}#sk-container-id-3 div.sk-estimator:hover {background-color: #d4ebff;}#sk-container-id-3 div.sk-parallel-item::after {content: \"\";width: 100%;border-bottom: 1px solid gray;flex-grow: 1;}#sk-container-id-3 div.sk-label:hover label.sk-toggleable__label {background-color: #d4ebff;}#sk-container-id-3 div.sk-serial::before {content: \"\";position: absolute;border-left: 1px solid gray;box-sizing: border-box;top: 0;bottom: 0;left: 50%;z-index: 0;}#sk-container-id-3 div.sk-serial {display: flex;flex-direction: column;align-items: center;background-color: white;padding-right: 0.2em;padding-left: 0.2em;position: relative;}#sk-container-id-3 div.sk-item {position: relative;z-index: 1;}#sk-container-id-3 div.sk-parallel {display: flex;align-items: stretch;justify-content: center;background-color: white;position: relative;}#sk-container-id-3 div.sk-item::before, #sk-container-id-3 div.sk-parallel-item::before {content: \"\";position: absolute;border-left: 1px solid gray;box-sizing: border-box;top: 0;bottom: 0;left: 50%;z-index: -1;}#sk-container-id-3 div.sk-parallel-item {display: flex;flex-direction: column;z-index: 1;position: relative;background-color: white;}#sk-container-id-3 div.sk-parallel-item:first-child::after {align-self: flex-end;width: 50%;}#sk-container-id-3 div.sk-parallel-item:last-child::after {align-self: flex-start;width: 50%;}#sk-container-id-3 div.sk-parallel-item:only-child::after {width: 0;}#sk-container-id-3 div.sk-dashed-wrapped {border: 1px dashed gray;margin: 0 0.4em 0.5em 0.4em;box-sizing: border-box;padding-bottom: 0.4em;background-color: white;}#sk-container-id-3 div.sk-label label {font-family: monospace;font-weight: bold;display: inline-block;line-height: 1.2em;}#sk-container-id-3 div.sk-label-container {text-align: center;}#sk-container-id-3 div.sk-container {/* jupyter's `normalize.less` sets `[hidden] { display: none; }` but bootstrap.min.css set `[hidden] { display: none !important; }` so we also need the `!important` here to be able to override the default hidden behavior on the sphinx rendered scikit-learn.org. See: https://github.com/scikit-learn/scikit-learn/issues/21755 */display: inline-block !important;position: relative;}#sk-container-id-3 div.sk-text-repr-fallback {display: none;}</style><div id=\"sk-container-id-3\" class=\"sk-top-container\"><div class=\"sk-text-repr-fallback\"><pre>LogisticRegression()</pre><b>In a Jupyter environment, please rerun this cell to show the HTML representation or trust the notebook. <br />On GitHub, the HTML representation is unable to render, please try loading this page with nbviewer.org.</b></div><div class=\"sk-container\" hidden><div class=\"sk-item\"><div class=\"sk-estimator sk-toggleable\"><input class=\"sk-toggleable__control sk-hidden--visually\" id=\"sk-estimator-id-3\" type=\"checkbox\" checked><label for=\"sk-estimator-id-3\" class=\"sk-toggleable__label sk-toggleable__label-arrow\">LogisticRegression</label><div class=\"sk-toggleable__content\"><pre>LogisticRegression()</pre></div></div></div></div></div>"
            ]
          },
          "metadata": {},
          "execution_count": 161
        }
      ]
    },
    {
      "cell_type": "markdown",
      "source": [
        "Now we calculate the featrures importance and then sort features on the bases of the featrues importance score.\n",
        "\n"
      ],
      "metadata": {
        "id": "Myp3baJn9jWl"
      }
    },
    {
      "cell_type": "code",
      "source": [
        "# Extract feature importance\n",
        "importances = logreg.coef_[0]\n",
        "# Sort feature importance scores\n",
        "sorted_indices = np.argsort(importances)[::-1]\n",
        "sorted_importances = importances[sorted_indices]\n",
        "\n",
        "features = ['years_of_experience', 'functional_competency_score',\n",
        "       'top1_skills_score', 'top2_skills_score', 'top3_skills_score',\n",
        "       'behavior_competency_score']\n",
        "# Convert sorted_indices to a list before indexing features\n",
        "sorted_features = [features[i] for i in sorted_indices]"
      ],
      "metadata": {
        "id": "Q22P0I979iht"
      },
      "execution_count": null,
      "outputs": []
    },
    {
      "cell_type": "markdown",
      "source": [
        "In order to show the importance of the featuresand their score, we draw a bar plot for them."
      ],
      "metadata": {
        "id": "ok9MGlpT9N7q"
      }
    },
    {
      "cell_type": "code",
      "source": [
        "# Visualize feature importance\n",
        "plt.figure(figsize=(10, 6))\n",
        "plt.bar(range(len(sorted_importances)), sorted_importances, color=color_codes[3], edgecolor = 'black')\n",
        "plt.xticks(range(len(sorted_importances)), sorted_features, rotation='vertical')\n",
        "plt.xlabel('Features')\n",
        "plt.ylabel('Importance Score')\n",
        "plt.title('Feature Importance')\n",
        "plt.show()"
      ],
      "metadata": {
        "colab": {
          "base_uri": "https://localhost:8080/",
          "height": 756
        },
        "id": "BKO0Rhups49X",
        "outputId": "0f08101b-b6d1-4e06-9bdd-f94304a64e22"
      },
      "execution_count": null,
      "outputs": [
        {
          "output_type": "display_data",
          "data": {
            "text/plain": [
              "<Figure size 1000x600 with 1 Axes>"
            ],
            "image/png": "[encoded data removed]"
          },
          "metadata": {}
        }
      ]
    },
    {
      "cell_type": "markdown",
      "source": [
        " The top three most important features are years of experience, behavior competency score, and top1_skills_score. Moreover, the HR gives more importance to top1 skills score than to overall functionall competency score.This make sense, for example, if a company wants C++ developer for job position than they will decide based on how much knowleddge the candidate posses about C++ language than his overall knowledge in the field of computer science."
      ],
      "metadata": {
        "id": "KH_ZUgwmNXcS"
      }
    },
    {
      "cell_type": "markdown",
      "source": [
        "# 5. Conclusion\n",
        "The following is the conclusion of this project:\n",
        "\n",
        "- The top three most important features based on which the HR call a candidate for an interview are years of experience, behavior competency score., and top1_skills_score.\n",
        "- Logistic regression, a machine learning model, can predict within 90% accuracy wheater a candidate to be called for interview or not."
      ],
      "metadata": {
        "id": "R-ZuTAJi-3ez"
      }
    }
  ]
}